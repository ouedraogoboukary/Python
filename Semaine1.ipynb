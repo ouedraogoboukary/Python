{
 "cells": [
  {
   "cell_type": "code",
   "execution_count": 1,
   "metadata": {},
   "outputs": [],
   "source": [
    "# Les fonctions mathématiques de la librairie standard de python se trouve dans le module \"math\"\n",
    "import math as m"
   ]
  },
  {
   "cell_type": "code",
   "execution_count": 2,
   "metadata": {},
   "outputs": [
    {
     "data": {
      "text/plain": [
       "-0.8578030932449878"
      ]
     },
     "execution_count": 2,
     "metadata": {},
     "output_type": "execute_result"
    }
   ],
   "source": [
    "# calcul du cosinus de 78 \n",
    "m.cos(78)"
   ]
  },
  {
   "cell_type": "code",
   "execution_count": 6,
   "metadata": {},
   "outputs": [
    {
     "name": "stdout",
     "output_type": "stream",
     "text": [
      "2/3\n",
      "1/2\n",
      "7/6\n"
     ]
    }
   ],
   "source": [
    "# Les fractions en python\n",
    "import fractions\n",
    "a = fractions.Fraction(2,3)\n",
    "b = fractions.Fraction(1,2)\n",
    "print(a)\n",
    "print(b)\n",
    "print(a+b)"
   ]
  },
  {
   "cell_type": "code",
   "execution_count": 5,
   "metadata": {},
   "outputs": [
    {
     "name": "stdout",
     "output_type": "stream",
     "text": [
      "<class 'fractions.Fraction'>\n"
     ]
    }
   ],
   "source": [
    "print(type(a))"
   ]
  },
  {
   "cell_type": "code",
   "execution_count": 9,
   "metadata": {},
   "outputs": [
    {
     "name": "stdout",
     "output_type": "stream",
     "text": [
      "True\n"
     ]
    }
   ],
   "source": [
    "# Tester le type d'un élément dans un programme python\n",
    "print(isinstance(a,fractions.Fraction))"
   ]
  },
  {
   "cell_type": "code",
   "execution_count": 10,
   "metadata": {},
   "outputs": [
    {
     "name": "stdout",
     "output_type": "stream",
     "text": [
      "False\n"
     ]
    }
   ],
   "source": [
    "# b n'est pas un nombre flottant mais une fraction. Pyton fait la distinction\n",
    "print(isinstance(b,float))"
   ]
  },
  {
   "cell_type": "code",
   "execution_count": 14,
   "metadata": {},
   "outputs": [
    {
     "name": "stdout",
     "output_type": "stream",
     "text": [
      "False\n",
      "True\n"
     ]
    }
   ],
   "source": [
    "# 1 definie comme la fraction 1/1 n'est pas de type entier en python\n",
    "c = fractions.Fraction(1,1)\n",
    "print(isinstance(c,int))\n",
    "print(isinstance(c,fractions.Fraction))"
   ]
  },
  {
   "cell_type": "code",
   "execution_count": 15,
   "metadata": {},
   "outputs": [
    {
     "name": "stdout",
     "output_type": "stream",
     "text": [
      "<class 'float'>\n"
     ]
    }
   ],
   "source": [
    "# Conversion d'un type à un autre dans python\n",
    "a=1.5\n",
    "print(type(a))"
   ]
  },
  {
   "cell_type": "code",
   "execution_count": 16,
   "metadata": {},
   "outputs": [
    {
     "name": "stdout",
     "output_type": "stream",
     "text": [
      "<class 'int'>\n"
     ]
    }
   ],
   "source": [
    "a=int(a)\n",
    "print(type(a))"
   ]
  },
  {
   "cell_type": "code",
   "execution_count": 17,
   "metadata": {},
   "outputs": [
    {
     "name": "stdout",
     "output_type": "stream",
     "text": [
      "<class 'complex'>\n"
     ]
    }
   ],
   "source": [
    "\"\"\" \n",
    "la conversion d'un complexe à un type int, float ou boolean est interdit. En effet cela conduirait à une perte\n",
    "d'information. \n",
    "\"\"\"\n",
    "b= 2-3j\n",
    "print(type(b))"
   ]
  },
  {
   "cell_type": "code",
   "execution_count": 21,
   "metadata": {},
   "outputs": [
    {
     "name": "stdout",
     "output_type": "stream",
     "text": [
      "Partie imaginaire de b:  -3.0\n",
      "Partie réelle de b:  2.0\n"
     ]
    }
   ],
   "source": [
    "# partie réelle et partie imaginaire d'un nombre complexe\n",
    "print(\"Partie imaginaire de b: \",b.imag)\n",
    "print(\"Partie réelle de b: \", b.real)"
   ]
  },
  {
   "cell_type": "code",
   "execution_count": 28,
   "metadata": {},
   "outputs": [
    {
     "data": {
      "text/plain": [
       "False"
      ]
     },
     "execution_count": 28,
     "metadata": {},
     "output_type": "execute_result"
    }
   ],
   "source": [
    "# OPERATIONS ET COMPARAISONS\n",
    "\"\"\" \n",
    "Type booléen en python\n",
    "\"\"\"\n",
    "True and False"
   ]
  },
  {
   "cell_type": "code",
   "execution_count": 29,
   "metadata": {},
   "outputs": [
    {
     "data": {
      "text/plain": [
       "True"
      ]
     },
     "execution_count": 29,
     "metadata": {},
     "output_type": "execute_result"
    }
   ],
   "source": [
    "True and True"
   ]
  },
  {
   "cell_type": "code",
   "execution_count": 24,
   "metadata": {},
   "outputs": [
    {
     "data": {
      "text/plain": [
       "True"
      ]
     },
     "execution_count": 24,
     "metadata": {},
     "output_type": "execute_result"
    }
   ],
   "source": [
    "True or False"
   ]
  },
  {
   "cell_type": "code",
   "execution_count": 30,
   "metadata": {},
   "outputs": [
    {
     "data": {
      "text/plain": [
       "True"
      ]
     },
     "execution_count": 30,
     "metadata": {},
     "output_type": "execute_result"
    }
   ],
   "source": [
    "True or True"
   ]
  },
  {
   "cell_type": "code",
   "execution_count": 31,
   "metadata": {},
   "outputs": [
    {
     "data": {
      "text/plain": [
       "False"
      ]
     },
     "execution_count": 31,
     "metadata": {},
     "output_type": "execute_result"
    }
   ],
   "source": [
    "not True"
   ]
  },
  {
   "cell_type": "code",
   "execution_count": 1,
   "metadata": {},
   "outputs": [
    {
     "name": "stdout",
     "output_type": "stream",
     "text": [
      "<class 'str'>\n"
     ]
    }
   ],
   "source": [
    "# LES CONTENANTS \n",
    "\"\"\"\n",
    "Chaines de caractères\n",
    "\"\"\"\n",
    "s='Bonjour Télécom ParisTech!'\n",
    "print(type(s))"
   ]
  },
  {
   "cell_type": "code",
   "execution_count": 2,
   "metadata": {},
   "outputs": [
    {
     "data": {
      "text/plain": [
       "'Bonjour'"
      ]
     },
     "execution_count": 2,
     "metadata": {},
     "output_type": "execute_result"
    }
   ],
   "source": [
    "s[0:7]"
   ]
  },
  {
   "cell_type": "code",
   "execution_count": 3,
   "metadata": {},
   "outputs": [],
   "source": [
    "start, stop =1, 7"
   ]
  },
  {
   "cell_type": "code",
   "execution_count": 5,
   "metadata": {},
   "outputs": [
    {
     "name": "stdout",
     "output_type": "stream",
     "text": [
      "6\n",
      "6\n"
     ]
    }
   ],
   "source": [
    "print(len(s[start:stop]))\n",
    "print(stop-start)"
   ]
  },
  {
   "cell_type": "code",
   "execution_count": 6,
   "metadata": {},
   "outputs": [
    {
     "data": {
      "text/plain": [
       "'Télécom ParisTech!'"
      ]
     },
     "execution_count": 6,
     "metadata": {},
     "output_type": "execute_result"
    }
   ],
   "source": [
    "s[8:]"
   ]
  },
  {
   "cell_type": "code",
   "execution_count": 8,
   "metadata": {},
   "outputs": [
    {
     "name": "stdout",
     "output_type": "stream",
     "text": [
      "18\n",
      "18\n"
     ]
    }
   ],
   "source": [
    "print(len(s[8:]))\n",
    "print(len(s)-8)"
   ]
  },
  {
   "cell_type": "code",
   "execution_count": 9,
   "metadata": {},
   "outputs": [
    {
     "data": {
      "text/plain": [
       "'ParisTech!'"
      ]
     },
     "execution_count": 9,
     "metadata": {},
     "output_type": "execute_result"
    }
   ],
   "source": [
    "s[-10:]"
   ]
  },
  {
   "cell_type": "code",
   "execution_count": 19,
   "metadata": {},
   "outputs": [
    {
     "name": "stdout",
     "output_type": "stream",
     "text": [
      "val_1 = 3.141500e+00 \n",
      "val_2 = 3.141500 \n",
      "val_3 = 3 \n",
      "val_4 = 3.1415 \n",
      "val1=3.14, val2=1.5\n"
     ]
    }
   ],
   "source": [
    "# FORMATAGE \n",
    "a=3.1415\n",
    "print(\"val_1 = %e \" %a)\n",
    "print(\"val_2 = %f \" %a)\n",
    "print(\"val_3 = %d \" %a)\n",
    "print(\"val_4 = %s \" %a)\n",
    "s=\"val1=%.2f, val2=%s\" %(3.1415,1.5)\n",
    "print(s)"
   ]
  },
  {
   "cell_type": "code",
   "execution_count": 23,
   "metadata": {},
   "outputs": [
    {
     "name": "stdout",
     "output_type": "stream",
     "text": [
      "<class 'list'>\n"
     ]
    }
   ],
   "source": [
    "\"\"\"\n",
    "Les listes\n",
    "\"\"\"\n",
    "L1=[1,2,3,4,5] # liste homogène d'entiers\n",
    "L2=[1, 1j,\"a\", [3,4]] # liste hétérogène (un entier, un complexe, un caractère, une liste)\n",
    "print(type(L1))"
   ]
  },
  {
   "cell_type": "code",
   "execution_count": 26,
   "metadata": {},
   "outputs": [
    {
     "name": "stdout",
     "output_type": "stream",
     "text": [
      "range(1, 20, 2)\n",
      "[1, 3, 5, 7, 9, 11, 13, 15, 17, 19]\n"
     ]
    }
   ],
   "source": [
    "a=range(1,20,2)\n",
    "print(a)\n",
    "print(list(a))"
   ]
  },
  {
   "cell_type": "code",
   "execution_count": 28,
   "metadata": {},
   "outputs": [
    {
     "name": "stdout",
     "output_type": "stream",
     "text": [
      "[10, 9, 8, 7, 6, 5, 4, 3, 2, 1, 0]\n"
     ]
    }
   ],
   "source": [
    "# itération de n à 0\n",
    "b=range(10,-1,-1)\n",
    "print(list(b))"
   ]
  },
  {
   "cell_type": "code",
   "execution_count": 29,
   "metadata": {},
   "outputs": [
    {
     "data": {
      "text/plain": [
       "10"
      ]
     },
     "execution_count": 29,
     "metadata": {},
     "output_type": "execute_result"
    }
   ],
   "source": [
    "b[0]"
   ]
  },
  {
   "cell_type": "code",
   "execution_count": 31,
   "metadata": {},
   "outputs": [
    {
     "name": "stdout",
     "output_type": "stream",
     "text": [
      "['B', 'o', 'n', 'j', 'o', 'u', 'r']\n"
     ]
    }
   ],
   "source": [
    "# convertir une chaîne de caractère en liste\n",
    "s=\"Bonjour\"\n",
    "t=list(s)\n",
    "print(t)"
   ]
  },
  {
   "cell_type": "code",
   "execution_count": 33,
   "metadata": {},
   "outputs": [
    {
     "name": "stdout",
     "output_type": "stream",
     "text": [
      "['B', 'j', 'n', 'o', 'o', 'r', 'u']\n",
      "None\n"
     ]
    }
   ],
   "source": [
    "# Trier une liste: Deux possibilités -1) la fonction \"sorted\" sur la liste -2) la méthode \"sort\"\n",
    "t1=sorted(t)\n",
    "t2=t.sort()\n",
    "print(t1)\n",
    "print(t2) # affiche rien"
   ]
  },
  {
   "cell_type": "code",
   "execution_count": 51,
   "metadata": {},
   "outputs": [
    {
     "name": "stdout",
     "output_type": "stream",
     "text": [
      "None\n",
      "['A', 'd', 'd']\n"
     ]
    }
   ],
   "source": [
    "# Ajouter, insérer, modifier, enlever des éléments dans une liste\n",
    "l=[] # liste vide\n",
    "m=l.append(\"A\")\n",
    "l.append(\"d\")\n",
    "l.append(\"d\")\n",
    "print(m) # ne renvoie rien\n",
    "print(l) "
   ]
  },
  {
   "cell_type": "code",
   "execution_count": 36,
   "metadata": {},
   "outputs": [
    {
     "data": {
      "text/plain": [
       "2"
      ]
     },
     "execution_count": 36,
     "metadata": {},
     "output_type": "execute_result"
    }
   ],
   "source": [
    "# compter le nombre d'occurrence d'un caractère dans une liste avec la méthode count()\n",
    "l.count(\"d\")"
   ]
  },
  {
   "cell_type": "code",
   "execution_count": 52,
   "metadata": {},
   "outputs": [
    {
     "name": "stdout",
     "output_type": "stream",
     "text": [
      "['A', 'e', 'd']\n",
      "['A', 'd', 'f']\n"
     ]
    }
   ],
   "source": [
    "# On modifier les éléments d'une liste par une assignation\n",
    "l[1]=\"e\"\n",
    "print(l)\n",
    "l[1:3]=[\"d\",\"f\"]\n",
    "print(l)"
   ]
  },
  {
   "cell_type": "code",
   "execution_count": 54,
   "metadata": {},
   "outputs": [
    {
     "name": "stdout",
     "output_type": "stream",
     "text": [
      "['i', 'n', 's', 'e', 'r', 't', 'i', 'n', 's', 'e', 'r', 't', 'A', 'd', 'f']\n"
     ]
    }
   ],
   "source": [
    "# la méthode 'insert' permet d'inserer un élément dans une liste: elle prend en paramètres la position\n",
    "# de l'élémént à insérer ainsi que le nom de cet élément\n",
    "l.insert(0,\"i\")\n",
    "l.insert(1,\"n\")\n",
    "l.insert(2,\"s\")\n",
    "l.insert(3,\"e\")\n",
    "l.insert(4,\"r\")\n",
    "l.insert(5,\"t\")\n",
    "print(l)"
   ]
  },
  {
   "cell_type": "code",
   "execution_count": 55,
   "metadata": {},
   "outputs": [
    {
     "name": "stdout",
     "output_type": "stream",
     "text": [
      "['i', 'n', 's', 'e', 'r', 't', 'i', 'n', 's', 'e', 'r', 't']\n"
     ]
    }
   ],
   "source": [
    "#la méthode 'remove' permet de supprimer un élément d'une liste\n",
    "l.remove(\"A\")\n",
    "l.remove(\"d\")\n",
    "l.remove(\"f\")\n",
    "print(l)"
   ]
  },
  {
   "cell_type": "code",
   "execution_count": 56,
   "metadata": {},
   "outputs": [
    {
     "data": {
      "text/plain": [
       "True"
      ]
     },
     "execution_count": 56,
     "metadata": {},
     "output_type": "execute_result"
    }
   ],
   "source": [
    "# Tester l'existence d'un élément dans une liste avec 'in'\n",
    "\"i\" in l"
   ]
  },
  {
   "cell_type": "raw",
   "metadata": {},
   "source": [
    "# la première occurrence dans une liste avec la méthode \"index()\"\n",
    "l.index(\"i\")"
   ]
  },
  {
   "cell_type": "code",
   "execution_count": 58,
   "metadata": {},
   "outputs": [],
   "source": [
    "# SUPPRIMER UN ELEMENT AVEC LA METHODE \"del\", dimunitif de \"delete\"\n",
    "del l[6]\n"
   ]
  },
  {
   "cell_type": "code",
   "execution_count": 60,
   "metadata": {},
   "outputs": [
    {
     "name": "stdout",
     "output_type": "stream",
     "text": [
      "x=10\n",
      "y=20\n"
     ]
    }
   ],
   "source": [
    "#Tuples et dictionnaires\n",
    "\"\"\"\n",
    "LES TUPLES\n",
    "La différence fondamentale entre les tuples et les listes est que les tuples ne sont pas modifiables\n",
    "On dit qu'ils sont non_mutables\n",
    "\"\"\"\n",
    "point=(10,20) # tuple avec deux éléments\n",
    "# On peut déplier les éléments d'une liste par assignation\n",
    "x,y=point\n",
    "print(\"x=%s\" %x)\n",
    "print(\"y=%s\" %y)"
   ]
  },
  {
   "cell_type": "code",
   "execution_count": 101,
   "metadata": {},
   "outputs": [
    {
     "name": "stdout",
     "output_type": "stream",
     "text": [
      "{'param1': 1.0, 'param2': 2.0, 'param3': 3.0}\n",
      "{'param1': 1.0, 'param2': 2.0, 'param3': 3.0}\n"
     ]
    }
   ],
   "source": [
    "\"\"\"\n",
    "LES DICTIONNAIRES\n",
    "En python les dictionnaires servent à stocker les données sous la forme clé-valeur\n",
    "\"\"\"\n",
    "# Deux façons de créer un dictionnaire: -1) avec des accolades \"{key1:val1,key2:val2}\" -2) Avec le mot clé dict\n",
    "params={\"param1\":1.0,\"param2\":2.0,\"param3\":3.0}\n",
    "params2=dict(param1=1.0,param2=2.0,param3=3.0)\n",
    "print(params)\n",
    "print(params2)"
   ]
  },
  {
   "cell_type": "code",
   "execution_count": 103,
   "metadata": {},
   "outputs": [
    {
     "name": "stdout",
     "output_type": "stream",
     "text": [
      "param1=1.0\n"
     ]
    }
   ],
   "source": [
    "print(\"param1=%s\" %params[\"param1\"])"
   ]
  },
  {
   "cell_type": "code",
   "execution_count": 78,
   "metadata": {},
   "outputs": [
    {
     "name": "stdout",
     "output_type": "stream",
     "text": [
      "{'param1': 'A', 'param2': 2.0, 'param3': 3.0}\n"
     ]
    }
   ],
   "source": [
    "\"param1\" in params\n",
    "params[\"param1\"]=\"A\"\n",
    "print(params)"
   ]
  },
  {
   "cell_type": "code",
   "execution_count": 79,
   "metadata": {},
   "outputs": [
    {
     "name": "stdout",
     "output_type": "stream",
     "text": [
      "{'param2': 2.0, 'param3': 3.0}\n"
     ]
    }
   ],
   "source": [
    "del params[\"param1\"]\n",
    "print(params)"
   ]
  },
  {
   "cell_type": "code",
   "execution_count": 82,
   "metadata": {},
   "outputs": [
    {
     "name": "stdout",
     "output_type": "stream",
     "text": [
      "La condition est vraie\n",
      "Alors on reste dans la boucle\n"
     ]
    }
   ],
   "source": [
    "#BRANCHEMENTS CONDITIONNELS ET BOUCLES\n",
    "\"\"\"\n",
    "Branchements conditionnels\n",
    "\"\"\"\n",
    "condition=True\n",
    "if condition:\n",
    "    print(\"La condition est vraie\")\n",
    "    print(\"Alors on reste dans la boucle\")"
   ]
  },
  {
   "cell_type": "code",
   "execution_count": 83,
   "metadata": {},
   "outputs": [
    {
     "name": "stdout",
     "output_type": "stream",
     "text": [
      "On n'est plus dans le branchement conditionnel if\n"
     ]
    }
   ],
   "source": [
    "condition2=False\n",
    "if condition2:\n",
    "    print(\"La condition est vraie\")\n",
    "print(\"On n'est plus dans le branchement conditionnel if\")"
   ]
  },
  {
   "cell_type": "code",
   "execution_count": 84,
   "metadata": {},
   "outputs": [
    {
     "name": "stdout",
     "output_type": "stream",
     "text": [
      "1\n",
      "2\n",
      "3\n",
      "4\n"
     ]
    }
   ],
   "source": [
    "\"\"\"\n",
    "Les boucles\n",
    "\"\"\"\n",
    "for i in [1,2,3,4]:\n",
    "    print(i)"
   ]
  },
  {
   "cell_type": "code",
   "execution_count": 85,
   "metadata": {},
   "outputs": [
    {
     "name": "stdout",
     "output_type": "stream",
     "text": [
      "0\n",
      "1\n",
      "2\n",
      "3\n"
     ]
    }
   ],
   "source": [
    "for i in range(4): # slice\n",
    "    print(i)"
   ]
  },
  {
   "cell_type": "code",
   "execution_count": 88,
   "metadata": {},
   "outputs": [
    {
     "name": "stdout",
     "output_type": "stream",
     "text": [
      "0 0\n",
      "1 1\n",
      "2 2\n",
      "3 3\n"
     ]
    }
   ],
   "source": [
    "# Mot-clé enumerate pour récupérer  l'index \n",
    "for idx, i in enumerate(range(4)):\n",
    "    print(idx,i)"
   ]
  },
  {
   "cell_type": "code",
   "execution_count": 89,
   "metadata": {},
   "outputs": [
    {
     "name": "stdout",
     "output_type": "stream",
     "text": [
      "0 B\n",
      "1 o\n",
      "2 n\n",
      "3 j\n",
      "4 o\n",
      "5 u\n",
      "6 r\n",
      "7  \n",
      "8 t\n",
      "9 o\n",
      "10 u\n",
      "11 t\n",
      "12  \n",
      "13 l\n",
      "14 e\n",
      "15  \n",
      "16 m\n",
      "17 o\n",
      "18 n\n",
      "19 d\n",
      "20 e\n"
     ]
    }
   ],
   "source": [
    "for idx, c in enumerate(\"Bonjour tout le monde\"):\n",
    "    print(idx, c)"
   ]
  },
  {
   "cell_type": "code",
   "execution_count": 93,
   "metadata": {},
   "outputs": [],
   "source": [
    "# création d'une liste avec for \n",
    "l=[x**2 for x in range(10)] # l<-  x**2 pour tout x appartenant à [1,2,3,4,5,6,7,8,9]\n",
    "print(l)"
   ]
  },
  {
   "cell_type": "code",
   "execution_count": 99,
   "metadata": {},
   "outputs": [
    {
     "name": "stdout",
     "output_type": "stream",
     "text": [
      "param1=1\n",
      "param2=2\n",
      "param3=3\n",
      "param4=4\n",
      "param5=5\n"
     ]
    }
   ],
   "source": [
    "params=dict(param1=1,param2=2, param3=3,param4=4,param5=5)\n",
    "for key,value in params.items():\n",
    "    print(\"%s=%s\" %(key,value))"
   ]
  },
  {
   "cell_type": "code",
   "execution_count": 104,
   "metadata": {},
   "outputs": [
    {
     "name": "stdout",
     "output_type": "stream",
     "text": [
      "0\n",
      "1\n",
      "2\n",
      "3\n",
      "4\n",
      "Ok on sort enfin de la boucle\n"
     ]
    }
   ],
   "source": [
    "\"\"\"\n",
    "Les boucles while\n",
    "\"\"\"\n",
    "i=0\n",
    "while i<5:\n",
    "    print(i)\n",
    "    i+=1\n",
    "print(\"Ok on sort enfin de la boucle\")"
   ]
  },
  {
   "cell_type": "code",
   "execution_count": 106,
   "metadata": {},
   "outputs": [],
   "source": [
    "# LES FONCTIONS EN PYTHON"
   ]
  },
  {
   "cell_type": "code",
   "execution_count": 112,
   "metadata": {},
   "outputs": [],
   "source": [
    "def fonction0():\n",
    "    print(\"Bonjour tout le monde\")\n"
   ]
  },
  {
   "cell_type": "code",
   "execution_count": 113,
   "metadata": {},
   "outputs": [
    {
     "name": "stdout",
     "output_type": "stream",
     "text": [
      "Bonjour tout le monde\n"
     ]
    }
   ],
   "source": [
    "fonction0()"
   ]
  },
  {
   "cell_type": "code",
   "execution_count": 123,
   "metadata": {},
   "outputs": [
    {
     "name": "stdout",
     "output_type": "stream",
     "text": [
      "Help on function fonction1 in module __main__:\n",
      "\n",
      "fonction1(s)\n",
      "    Fonction retourne la longueur d'une chaine de caractère\n",
      "\n"
     ]
    }
   ],
   "source": [
    "def fonction1(s):\n",
    "    \"\"\"\n",
    "    Fonction retourne la longueur d'une chaine de caractère\n",
    "    \"\"\"\n",
    "    print(\"%s est de longueur %d \" %(s,len(s)))\n",
    "help(fonction1)\n"
   ]
  },
  {
   "cell_type": "code",
   "execution_count": 121,
   "metadata": {},
   "outputs": [
    {
     "name": "stdout",
     "output_type": "stream",
     "text": [
      "Bonjour tout le monde est de longueur 21 caractères\n"
     ]
    }
   ],
   "source": [
    "fonction1(\"Bonjour tout le monde\")"
   ]
  },
  {
   "cell_type": "code",
   "execution_count": 122,
   "metadata": {},
   "outputs": [
    {
     "name": "stdout",
     "output_type": "stream",
     "text": [
      "[1, 2, 4] est de longueur 3 caractères\n"
     ]
    }
   ],
   "source": [
    "fonction1([1,2,4]) # typage dynamique de python. lors de la création de fonction1 nous n'avons pas préciser le type de s\n"
   ]
  },
  {
   "cell_type": "code",
   "execution_count": 124,
   "metadata": {},
   "outputs": [
    {
     "name": "stdout",
     "output_type": "stream",
     "text": [
      "[1, 2, 3] est de longueur 3 \n",
      "None\n"
     ]
    }
   ],
   "source": [
    "print(fonction1([1,2,3])) # print appliqué à fonction1 ne retourne rien car nous n'avons pas préciser une valeur de retour"
   ]
  },
  {
   "cell_type": "code",
   "execution_count": 125,
   "metadata": {},
   "outputs": [],
   "source": [
    "def carre(x):\n",
    "    \"\"\"\n",
    "    Fonction qui calculer le carré d'un nombre passé en argument\n",
    "    \"\"\"\n",
    "    return x**2\n"
   ]
  },
  {
   "cell_type": "code",
   "execution_count": 126,
   "metadata": {},
   "outputs": [
    {
     "name": "stdout",
     "output_type": "stream",
     "text": [
      "16\n"
     ]
    }
   ],
   "source": [
    "print(carre(4)) # Cette fois ci print retourne la valeur de la fonction évaluer en 4 car nous avons préciser \n",
    "# une valeur de retour."
   ]
  },
  {
   "cell_type": "code",
   "execution_count": 128,
   "metadata": {},
   "outputs": [],
   "source": [
    "# En python une fonction peut retourner plusieurs valeurs. Dans ce cas les valeurs retournées sont\n",
    "# séparées par des virgules\n",
    "def powers(x):\n",
    "    \"\"\"\n",
    "    Retourne les premières puissances de x\n",
    "    \"\"\"\n",
    "    return x**2, x**3,x**4, x**5\n"
   ]
  },
  {
   "cell_type": "code",
   "execution_count": 133,
   "metadata": {},
   "outputs": [
    {
     "name": "stdout",
     "output_type": "stream",
     "text": [
      "(16, 64, 256, 1024)\n",
      "<class 'tuple'>\n",
      "4\n",
      "64\n"
     ]
    }
   ],
   "source": [
    "out=powers(4)\n",
    "print(out) # Le résultat returne est de type tuple\n",
    "print(type(out))\n",
    "print(len(out))\n",
    "print(out[1])\n"
   ]
  },
  {
   "cell_type": "code",
   "execution_count": 130,
   "metadata": {},
   "outputs": [],
   "source": [
    "x1,x2,x3,x4=powers(3)"
   ]
  },
  {
   "cell_type": "code",
   "execution_count": 131,
   "metadata": {},
   "outputs": [
    {
     "name": "stdout",
     "output_type": "stream",
     "text": [
      "27 243\n"
     ]
    }
   ],
   "source": [
    "print(x2,x4)"
   ]
  },
  {
   "cell_type": "code",
   "execution_count": 134,
   "metadata": {},
   "outputs": [
    {
     "data": {
      "text/plain": [
       "125"
      ]
     },
     "execution_count": 134,
     "metadata": {},
     "output_type": "execute_result"
    }
   ],
   "source": [
    "# Fonction avec valeur par défaut\n",
    "def ma_fonction(x,p=2, debeug=False):\n",
    "    if debeug:\n",
    "        print(\"Evaluer ma_fonction avec x=%s et l'exposant p=%s\" %(x,p))\n",
    "    return x**p\n",
    "ma_fonction(5,3)"
   ]
  },
  {
   "cell_type": "code",
   "execution_count": 135,
   "metadata": {},
   "outputs": [
    {
     "name": "stdout",
     "output_type": "stream",
     "text": [
      "Evaluer ma_fonction avec x=5 et l'exposant p=3\n"
     ]
    },
    {
     "data": {
      "text/plain": [
       "125"
      ]
     },
     "execution_count": 135,
     "metadata": {},
     "output_type": "execute_result"
    }
   ],
   "source": [
    "ma_fonction(5,3,debeug=True)"
   ]
  },
  {
   "cell_type": "markdown",
   "metadata": {},
   "source": [
    "\n"
   ]
  },
  {
   "cell_type": "code",
   "execution_count": null,
   "metadata": {},
   "outputs": [],
   "source": []
  }
 ],
 "metadata": {
  "kernelspec": {
   "display_name": "Python 3",
   "language": "python",
   "name": "python3"
  },
  "language_info": {
   "codemirror_mode": {
    "name": "ipython",
    "version": 3
   },
   "file_extension": ".py",
   "mimetype": "text/x-python",
   "name": "python",
   "nbconvert_exporter": "python",
   "pygments_lexer": "ipython3",
   "version": "3.7.3"
  }
 },
 "nbformat": 4,
 "nbformat_minor": 2
}
